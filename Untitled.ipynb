{
 "cells": [
  {
   "cell_type": "code",
   "execution_count": 1,
   "metadata": {},
   "outputs": [
    {
     "name": "stdout",
     "output_type": "stream",
     "text": [
      "WARNING:tensorflow:Error in loading the saved optimizer state. As a result, your model is starting with a freshly initialized optimizer.\n"
     ]
    }
   ],
   "source": [
    "import numpy as np\n",
    "from tensorflow.keras.preprocessing import image\n",
    "from tensorflow.keras.models import load_model\n",
    "saved_model = load_model(\"model/VGG_model.h5\")\n",
    "status = True\n",
    "\n",
    "\n",
    "def check(input_img):\n",
    "    print(\" your image is : \" + input_img)\n",
    "    print(input_img)\n",
    "\n",
    "    img = image.load_img(\"images/\" + input_img, target_size=(224, 224))\n",
    "    img = np.asarray(img, dtype = \"float32\")\n",
    "    print(img)\n",
    "\n",
    "    img = np.expand_dims(img, axis=0)\n",
    "\n",
    "    print(img)\n",
    "    output = saved_model.predict(img)\n",
    "\n",
    "    print(output)\n",
    "    if output[0][0] == 1:\n",
    "        status = True\n",
    "    else:\n",
    "        status = False\n",
    "\n",
    "    print(status)\n",
    "    return status\n"
   ]
  }
 ],
 "metadata": {
  "kernelspec": {
   "display_name": "Python 3",
   "language": "python",
   "name": "python3"
  },
  "language_info": {
   "codemirror_mode": {
    "name": "ipython",
    "version": 3
   },
   "file_extension": ".py",
   "mimetype": "text/x-python",
   "name": "python",
   "nbconvert_exporter": "python",
   "pygments_lexer": "ipython3",
   "version": "3.7.0"
  }
 },
 "nbformat": 4,
 "nbformat_minor": 2
}
