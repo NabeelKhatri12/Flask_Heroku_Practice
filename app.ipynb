{
 "cells": [
  {
   "cell_type": "code",
   "execution_count": null,
   "metadata": {},
   "outputs": [],
   "source": [
    "import os\n",
    "from flask import Flask, render_template, request\n",
    "from predictor import check\n",
    "\n",
    "\n",
    "author = 'BTD'\n",
    "\n",
    "app = Flask(__name__)\n",
    "\n",
    "static_folder=os.path.join('static', 'images')\n",
    "app.config['UPLOAD_FOLDER'] = static_folder\n",
    "\n",
    "APP_ROOT = os.path.dirname(os.path.abspath(\"C:/Users/HP/Downloads/BrainTumorDetectionFlask-master\"))\n",
    "\n",
    "\n",
    "@app.route('/')\n",
    "@app.route('/index')\n",
    "def index():\n",
    "    return render_template('upload.html')\n",
    "\n",
    "\n",
    "@app.route('/upload', methods=['GET', 'POST'])\n",
    "def upload():\n",
    "    target = os.path.join(APP_ROOT, 'images')\n",
    "    print(target)\n",
    "\n",
    "    if not os.path.isdir(target):\n",
    "        os.mkdir(target)\n",
    "\n",
    "    for file in request.files.getlist('file'):\n",
    "        print(file)\n",
    "        filename = file.filename\n",
    "        print(filename)\n",
    "        #dest = \"/\".join([target, filename])\n",
    "        dest = os.path.join(app.config['UPLOAD_FOLDER'], filename)\n",
    "        # dest = r'{}\\{}'.format(target, filename)\n",
    "        print(dest)\n",
    "        file.save(dest)\n",
    "\n",
    "    status = check(filename)\n",
    "\n",
    "    return render_template('complete.html', image_name=dest, predvalue=status)\n",
    "\n",
    "if __name__ == \"__main__\":\n",
    "    #app.run(port=5000, debug= True)\n",
    "    app.run(host=\"localhost\", port=5000, debug = False)"
   ]
  },
  {
   "cell_type": "code",
   "execution_count": null,
   "metadata": {},
   "outputs": [],
   "source": []
  },
  {
   "cell_type": "code",
   "execution_count": null,
   "metadata": {},
   "outputs": [],
   "source": []
  },
  {
   "cell_type": "code",
   "execution_count": null,
   "metadata": {},
   "outputs": [],
   "source": []
  }
 ],
 "metadata": {
  "kernelspec": {
   "display_name": "Python 3",
   "language": "python",
   "name": "python3"
  },
  "language_info": {
   "codemirror_mode": {
    "name": "ipython",
    "version": 3
   },
   "file_extension": ".py",
   "mimetype": "text/x-python",
   "name": "python",
   "nbconvert_exporter": "python",
   "pygments_lexer": "ipython3",
   "version": "3.7.0"
  }
 },
 "nbformat": 4,
 "nbformat_minor": 2
}
